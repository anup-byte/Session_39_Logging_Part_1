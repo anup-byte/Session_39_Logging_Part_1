{
 "cells": [
  {
   "cell_type": "code",
   "execution_count": null,
   "id": "85e8d835",
   "metadata": {},
   "outputs": [],
   "source": [
    "# logger in Python\n",
    "# Helps to keep track of what is happening in your program\n",
    "# Diary in code\n",
    "# Write down events, errors, and other information during program's execution\n",
    "# Debugging and understanding how your code is running"
   ]
  },
  {
   "cell_type": "code",
   "execution_count": null,
   "id": "102a6a1c",
   "metadata": {},
   "outputs": [],
   "source": [
    "# Logging is a means of tracking events that happens when some software runs."
   ]
  },
  {
   "cell_type": "code",
   "execution_count": null,
   "id": "fad85fce",
   "metadata": {},
   "outputs": [],
   "source": [
    "#1. Create a Logger"
   ]
  },
  {
   "cell_type": "code",
   "execution_count": null,
   "id": "7dfefaf0",
   "metadata": {},
   "outputs": [],
   "source": [
    "import logging"
   ]
  },
  {
   "cell_type": "code",
   "execution_count": null,
   "id": "9e96101f",
   "metadata": {},
   "outputs": [],
   "source": [
    "logger = logging.getLogger(\"my_program\")"
   ]
  },
  {
   "cell_type": "code",
   "execution_count": null,
   "id": "2c54d58b",
   "metadata": {},
   "outputs": [],
   "source": [
    "#2. Set the Logging Level- Information that you want to log.\n",
    "# DeBUG\n",
    "# INFO\n",
    "# WARNING\n",
    "# ERROR\n",
    "# CRITICAL"
   ]
  },
  {
   "cell_type": "code",
   "execution_count": null,
   "id": "36d4be04",
   "metadata": {},
   "outputs": [],
   "source": [
    "#3. Write Log Entries\n",
    "\n",
    "logger.debug(\"This is a debug message\")\n",
    "logger.info(\"This is an info message\")\n",
    "logger.warning(\"This is a warning message\")\n",
    "logger.error(\"This is an error message\")\n",
    "logger.critical(\"This is a critical message\")"
   ]
  },
  {
   "cell_type": "code",
   "execution_count": null,
   "id": "6e355c51",
   "metadata": {},
   "outputs": [],
   "source": [
    "# 4.\n",
    "\n",
    "logging.basicConfig(file_name = \"my_log.log\", level=logging.DEBUG)"
   ]
  },
  {
   "cell_type": "code",
   "execution_count": null,
   "id": "93bf1a76",
   "metadata": {},
   "outputs": [],
   "source": [
    "# Read and Analyze Your Log file"
   ]
  },
  {
   "cell_type": "markdown",
   "id": "50a0cf9e",
   "metadata": {},
   "source": [
    "1. **DEBUG** (lowest level):\n",
    "   - `DEBUG` messages are typically used for detailed and often verbose debugging information. They are useful when you need to track the flow of your program and inspect variables or intermediate results.\n",
    "\n",
    "2. **INFO**:\n",
    "   - `INFO` messages are used to provide general information about the program's execution. These messages might include high-level progress updates or important events.\n",
    "\n",
    "3. **WARNING**:\n",
    "   - `WARNING` messages indicate potential issues that are not critical but should be brought to your attention. For example, warnings can be used to highlight deprecated functions or unusual conditions.\n",
    "\n",
    "4. **ERROR**:\n",
    "   - `ERROR` messages represent errors that can be recovered from. These messages indicate problems that need immediate attention but won't necessarily crash the program. For example, an error message might be logged when an expected file is missing.\n",
    "\n",
    "5. **CRITICAL** (highest level):\n",
    "   - `CRITICAL` messages indicate severe errors that will cause the program to terminate or become unreliable. These messages are used for critical failures that require immediate action.\n"
   ]
  },
  {
   "cell_type": "code",
   "execution_count": null,
   "id": "57601984",
   "metadata": {},
   "outputs": [],
   "source": [
    "import logging"
   ]
  },
  {
   "cell_type": "code",
   "execution_count": null,
   "id": "efa3ddc4",
   "metadata": {},
   "outputs": [],
   "source": [
    "logger = logging.getLogger(\"my_program1\")"
   ]
  },
  {
   "cell_type": "code",
   "execution_count": null,
   "id": "88df2192",
   "metadata": {},
   "outputs": [],
   "source": [
    "logging.basicConfig(filename= \"my_app.log\",\n",
    "                   level = logging.DEBUG,\n",
    "                   format = \"%(asctime)s - %(name)s - %(levelname)s - %(message)s\"\n",
    "                   )"
   ]
  },
  {
   "cell_type": "code",
   "execution_count": null,
   "id": "5144363f",
   "metadata": {},
   "outputs": [],
   "source": [
    "logger.debug(\"This is a debug message\")\n",
    "logger.info(\"This is an info message\")\n",
    "logger.warning(\"This is a warning message\")\n",
    "logger.error(\"This is an error message\")\n",
    "logger.critical(\"This is a critical message\")"
   ]
  },
  {
   "cell_type": "code",
   "execution_count": null,
   "id": "60d1a352",
   "metadata": {},
   "outputs": [],
   "source": [
    "#  logging Exception Information"
   ]
  },
  {
   "cell_type": "code",
   "execution_count": null,
   "id": "205c864c",
   "metadata": {},
   "outputs": [],
   "source": [
    "try:\n",
    "    result = 10/0\n",
    "    \n",
    "except ZeroDivisionError:\n",
    "    logger.exception(\"Exception occured while dividing by zero\")"
   ]
  },
  {
   "cell_type": "code",
   "execution_count": null,
   "id": "e4f928d7",
   "metadata": {},
   "outputs": [],
   "source": [
    "name = \"Umesh\"\n",
    "age = 25\n",
    "logger.info(\"User %s is %d years old\", name, age)"
   ]
  },
  {
   "cell_type": "code",
   "execution_count": null,
   "id": "bd5a683e",
   "metadata": {},
   "outputs": [],
   "source": [
    "# Log Handler"
   ]
  },
  {
   "cell_type": "markdown",
   "id": "20329086",
   "metadata": {},
   "source": [
    "# Log handlers are used to manage the flow of log data from python program to various destinations"
   ]
  },
  {
   "cell_type": "code",
   "execution_count": null,
   "id": "08462cf6",
   "metadata": {},
   "outputs": [],
   "source": [
    "Console, file, network"
   ]
  },
  {
   "cell_type": "code",
   "execution_count": null,
   "id": "ffb0023d",
   "metadata": {},
   "outputs": [],
   "source": [
    "# log Level Filtering"
   ]
  },
  {
   "cell_type": "code",
   "execution_count": null,
   "id": "22af122e",
   "metadata": {},
   "outputs": [],
   "source": [
    "# Python provides several built-in log handlers"
   ]
  },
  {
   "cell_type": "code",
   "execution_count": null,
   "id": "415a2ee4",
   "metadata": {},
   "outputs": [],
   "source": [
    "StreamHandler: Sends log messages to the console(Standard Output)"
   ]
  },
  {
   "cell_type": "code",
   "execution_count": null,
   "id": "0cd81add",
   "metadata": {},
   "outputs": [],
   "source": [
    "FileHandler: Writes log messages to a file"
   ]
  },
  {
   "cell_type": "code",
   "execution_count": null,
   "id": "92dd999c",
   "metadata": {},
   "outputs": [],
   "source": [
    "SocketHandler : Sends log messages to a remote server using a network socket"
   ]
  },
  {
   "cell_type": "code",
   "execution_count": null,
   "id": "2db0dbef",
   "metadata": {},
   "outputs": [],
   "source": [
    "SysLogHandler : Sends log messages to the system log(Unix based system)"
   ]
  },
  {
   "cell_type": "code",
   "execution_count": null,
   "id": "bd7b7cac",
   "metadata": {},
   "outputs": [],
   "source": [
    "MemoryHandler : Buffers log messages in memory before sending it to a target handler"
   ]
  },
  {
   "cell_type": "code",
   "execution_count": null,
   "id": "8dbc923b",
   "metadata": {},
   "outputs": [],
   "source": [
    "SMPTHandler: Sends log messages via email"
   ]
  },
  {
   "cell_type": "code",
   "execution_count": null,
   "id": "30cff9ee",
   "metadata": {},
   "outputs": [],
   "source": [
    "# You can Create Custom log Handler"
   ]
  },
  {
   "cell_type": "code",
   "execution_count": null,
   "id": "b77184c7",
   "metadata": {},
   "outputs": [],
   "source": [
    "#Create File Handler\n",
    "\n",
    "file_handler = logging.FileHandler(\"my_app.log\")\n",
    "file_handler.setLevel(logging.INFO)\n",
    "\n",
    "\n",
    "# Create a console Handler\n",
    "\n",
    "console_handler = logging.StreamHandler()\n",
    "console_handler.setLevel(logging.INFO)\n",
    "\n",
    "\n",
    "# Add handlers to the logger\n",
    "logger.addHandler(file_handler)\n",
    "logger.addHandler(console_handler)\n"
   ]
  },
  {
   "cell_type": "markdown",
   "id": "5450fc3e",
   "metadata": {},
   "source": [
    "# You have program that interacrs with a file and you want to handle-file realted errors gracefully using logging"
   ]
  },
  {
   "cell_type": "code",
   "execution_count": 1,
   "id": "5de1644a",
   "metadata": {},
   "outputs": [],
   "source": [
    "import logging\n",
    "\n",
    "# Configure logging\n",
    "\n",
    "logging.basicConfig(filename = \"file_operation.log\",\n",
    "                   level = logging.INFO,\n",
    "                   format = \"%(asctime)s - %(name)s - %(levelname)s - %(message)s\")\n",
    "\n",
    "# Create a logger\n",
    "\n",
    "logger = logging.getLogger(\"file_example\")\n",
    "\n",
    "try:\n",
    "    with open(\"non_existent_file.txt\", \"r\") as file:\n",
    "        data = file.read()\n",
    "        \n",
    "    logger.info(\"File read successfully.\")\n",
    "    \n",
    "    \n",
    "except FileNotFoundError as e:\n",
    "    logger.error(\"File not found %s\", e)\n",
    "    \n",
    "    \n",
    "except Exception as e:\n",
    "    logger.error(\"An unexpected error occured %s\", e)\n",
    "        \n"
   ]
  }
 ],
 "metadata": {
  "kernelspec": {
   "display_name": "Python 3 (ipykernel)",
   "language": "python",
   "name": "python3"
  },
  "language_info": {
   "codemirror_mode": {
    "name": "ipython",
    "version": 3
   },
   "file_extension": ".py",
   "mimetype": "text/x-python",
   "name": "python",
   "nbconvert_exporter": "python",
   "pygments_lexer": "ipython3",
   "version": "3.11.4"
  }
 },
 "nbformat": 4,
 "nbformat_minor": 5
}
